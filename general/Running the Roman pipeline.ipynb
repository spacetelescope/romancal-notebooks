{
 "cells": [
  {
   "cell_type": "markdown",
   "id": "f1b832fd",
   "metadata": {},
   "source": [
    "## Running the Roman pipeline\n",
    "\n",
    "##### Before running this notebook, make sure you have gone through the setup instructions on the readme for this repository to set up CRDS, create a conda environment, and install the romancal pipline in this environment.\n",
    "This notebook shows the basic commands to run the Roman pipeline in Python."
   ]
  },
  {
   "cell_type": "markdown",
   "id": "260f6e4d",
   "metadata": {},
   "source": [
    "### Code development\n",
    "\n",
    "There are several packages which are concurrently developed to support the Roman pipeline calibrations.\n",
    "Some are shared with the JWST pipeline.\n",
    "\n",
    "- rad: Roman schemas\n",
    "\n",
    "https://github.com/spacetelescope/rad\n",
    "\n",
    "- roman_datamodels: Datamodels for Roman data products\n",
    "\n",
    "https://github.com/spacetelescope/roman_datamodels\n",
    "\n",
    "- stpipe: Pipeline runner (shared with jwst)\n",
    "\n",
    "https://github.com/spacetelescope/stpipe\n",
    "\n",
    "- stcal: Core algorithms used in the pipeline (shared with jwst)\n",
    "\n",
    "https://github.com/spacetelescope/stcal\n",
    "\n",
    "- romancal: The actual pipeline code\n",
    "https://github.com/spacetelescope/romancal\n",
    "\n",
    "Installing romancal installs all its dependencies automatically.\n",
    "\n",
    "### Opening a data file as a data model"
   ]
  },
  {
   "cell_type": "code",
   "execution_count": null,
   "id": "e04669cd",
   "metadata": {},
   "outputs": [],
   "source": [
    "from astropy.utils.data import download_file\n",
    "\n",
    "box_path = 'https://data.science.stsci.edu/redirect/Roman/Roman_Calibration_And_Datamodels/'\n",
    "level1_file = box_path + \"r0000101001001001001_01101_0001_WFI01_uncal.asdf\"\n",
    "\n",
    "level2_file = box_path + \"r0000101001001001001_01101_0001_WFI01_cal.asdf\""
   ]
  },
  {
   "cell_type": "code",
   "execution_count": null,
   "id": "7d0257b7",
   "metadata": {},
   "outputs": [],
   "source": [
    "from roman_datamodels import datamodels as rdm\n",
    "\n",
    "l1_file = download_file(level1_file)\n",
    "\n",
    "data_model = rdm.open(l1_file)"
   ]
  },
  {
   "cell_type": "code",
   "execution_count": null,
   "id": "c2291867",
   "metadata": {},
   "outputs": [],
   "source": [
    "data_model"
   ]
  },
  {
   "cell_type": "markdown",
   "id": "0aa2b471",
   "metadata": {},
   "source": [
    "This is a special data model. Science data formatting creates a Level1 (`ScienceRawModel`) file, which is the input to the pipeline. \n",
    "\n",
    "The first step in the pipeline, `dqinit` needs to convert this to a `RampModel`. "
   ]
  },
  {
   "cell_type": "markdown",
   "id": "cbed5ac6",
   "metadata": {},
   "source": [
    "### Running a step using reference files in CRDS\n",
    "\n",
    "#### On the command line\n",
    "\n",
    "```\n",
    "strun romancal.step.FlatFieldStep <input_file>\n",
    "```\n",
    "\n",
    "This runs the flat field step and saves the output in the current directory. The file suffix is `flatfieldstep`.\n",
    "\n",
    "The original `rate` suffix is preserved. *This is something that needs to be fixed!*\n",
    "\n",
    "#### In the Python interpreter"
   ]
  },
  {
   "cell_type": "code",
   "execution_count": null,
   "id": "5fd18658",
   "metadata": {},
   "outputs": [],
   "source": [
    "from romancal.flatfield import FlatFieldStep\n",
    "\n",
    "l2_file = download_file(level2_file)\n",
    "result = FlatFieldStep.call(l2_file)"
   ]
  },
  {
   "cell_type": "markdown",
   "id": "abe32779",
   "metadata": {},
   "source": [
    "In this case the output `result` is an ImageModel and can be saved to file."
   ]
  },
  {
   "cell_type": "code",
   "execution_count": null,
   "id": "b1cc57a6",
   "metadata": {},
   "outputs": [],
   "source": [
    "print(result)"
   ]
  },
  {
   "cell_type": "code",
   "execution_count": null,
   "id": "f099f1a1",
   "metadata": {},
   "outputs": [],
   "source": [
    "result.save('my_flat_fielded_image.asdf')"
   ]
  },
  {
   "cell_type": "markdown",
   "id": "cd5f80f1",
   "metadata": {},
   "source": [
    "### Running a step with local reference files\n",
    "\n",
    "#### On the command line\n",
    "\n",
    "```\n",
    "strun romancal.step.FlatFieldStep <input_file> --override_flat=myflat.asdf\n",
    "```\n",
    "\n",
    "\n",
    "#### In the Python interpreter"
   ]
  },
  {
   "cell_type": "code",
   "execution_count": null,
   "id": "8a314235",
   "metadata": {},
   "outputs": [],
   "source": [
    "from romancal.flatfield import FlatFieldStep\n",
    "\n",
    "result = FlatFieldStep.call(level2_file, override_flat=\"flat.asdf\")"
   ]
  },
  {
   "cell_type": "markdown",
   "id": "5e721137",
   "metadata": {},
   "source": [
    "In general, to run the pipeline from the interpreter and pass custom reference files, one needs to use an argument name \n",
    "\n",
    "`override_<reference_file_type>=<file_name>`\n",
    "\n",
    "On the command line the syntax is \n",
    "\n",
    "`--override_<reference_file_type>=<file_name>`\n",
    "\n",
    "To find out what reference types a step uses and their names:"
   ]
  },
  {
   "cell_type": "code",
   "execution_count": null,
   "id": "15b62030",
   "metadata": {},
   "outputs": [],
   "source": [
    "from romancal.step import *"
   ]
  },
  {
   "cell_type": "code",
   "execution_count": null,
   "id": "150acb13",
   "metadata": {},
   "outputs": [],
   "source": [
    "print(\"flat_field: \", FlatFieldStep.reference_file_types)\n",
    "print(\"dq_init: \", DQInitStep.reference_file_types)"
   ]
  },
  {
   "cell_type": "markdown",
   "id": "b51219de",
   "metadata": {},
   "source": [
    "In terms of code development, a \"pipeline\" is a special \"step\", which runs other steps. This means the Exposure Level Pipeline can be run in the same way as an individual step.\n",
    "\n",
    "```\n",
    "strun romancal.pipeline.ExposurePipeline r0000101001001001001_01101_0001_WFI01_uncal.asdf\n",
    "```\n",
    "\n",
    "or using the pipeline alias, `roman_elp`,\n",
    "\n",
    "```\n",
    "strun roman_elp r0000101001001001001_01101_0001_WFI01_uncal.asdf\n",
    "```\n",
    "\n",
    "The syntax to run the pipeline in the Python interpreter is also the same as for an individual step.\n",
    "\n",
    "To list all available steps (note the list contains steps from all packages registered with stpipe):"
   ]
  },
  {
   "cell_type": "code",
   "execution_count": null,
   "id": "04aaca61",
   "metadata": {},
   "outputs": [],
   "source": [
    "stpipe list"
   ]
  }
 ],
 "metadata": {
  "kernelspec": {
   "display_name": "Python 3",
   "language": "python",
   "name": "python3"
  },
  "language_info": {
   "codemirror_mode": {
    "name": "ipython",
    "version": 3
   },
   "file_extension": ".py",
   "mimetype": "text/x-python",
   "name": "python",
   "nbconvert_exporter": "python",
   "pygments_lexer": "ipython3",
   "version": "3.8.8"
  }
 },
 "nbformat": 4,
 "nbformat_minor": 5
}
